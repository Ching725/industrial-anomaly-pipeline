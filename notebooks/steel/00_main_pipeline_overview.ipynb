{
 "cells": [
  {
   "cell_type": "markdown",
   "id": "aacc91a8",
   "metadata": {},
   "source": [
    "# 專案完整流程：鋼板瑕疵分類分析\n",
    "整合了從資料探索、前處理、特徵分布分析、建模、SMOTEENN 資料平衡、Ensemble 模型訓練與預測到模型解釋與深度學習的完整流程。\n",
    "\n",
    "## 📘 目錄（Table of Contents）\n",
    "\n",
    "1. [資料探索與前處理](#-1.-資料探索與前處理)\n",
    "2. [傳統機器學習模型訓練](#-2.-傳統機器學習模型訓練)\n",
    "3. [模型解釋與 SHAP 分析](#-3.-模型解釋與-SHAP-分析)\n",
    "4. [多分類模型強化](#-4.-多分類模型強化)\n",
    "5. [困難類別處理策略](#-5.-困難類別處理策略)\n",
    "\n",
    "\n",
    "\n",
    "> 本專案使用資料：**Steel Plates Faults Dataset**  \n",
    "> 資料來源：[UCI Machine Learning Repository](https://archive.ics.uci.edu/ml/datasets/Steel+Plates+Faults)\n"
   ]
  },
  {
   "cell_type": "markdown",
   "id": "97f4f0ea",
   "metadata": {},
   "source": [
    "```mermaid\n",
    "---\n",
    "config:\n",
    "  layout: fixed\n",
    "  theme: neutral\n",
    "  look: neo\n",
    "---\n",
    "flowchart TD\n",
    "    A[\"資料讀取與合併標籤\"] --> B[\"資料清理與標準化\"]\n",
    "    B --> C[\"特徵選擇與高相關欄位刪除\"]\n",
    "    C --> D[\"資料分割 + SMOTEENN\"]\n",
    "    D --> E[\"RF/XGB/LGBM 等模型訓練與比較\"]\n",
    "    E --> F[\"SHAP 特徵重要性分析\"]\n",
    "    F --> G[\"強化模型：交互特徵 + Optuna 調參\"]\n",
    "    G --> H[\"合併難類別為 other類，再訓練\"]\n",
    "    H@{ shape: rect}\n"
   ]
  },
  {
   "cell_type": "markdown",
   "id": "45057671",
   "metadata": {},
   "source": [
    "## 🧩 Pipeline Flow (Modular Notebooks)\n",
    "\n",
    "This project is organized into modular notebooks. Each one serves a specific stage of the pipeline:\n"
   ]
  },
  {
   "cell_type": "markdown",
   "id": "57e08a71",
   "metadata": {},
   "source": [
    "### 📘 `01_EDA_and_Preprocessing.ipynb`\n",
    "- Conducts **Exploratory Data Analysis** (EDA) to understand feature distributions, correlations, and class imbalance.\n",
    "- Applies **data cleaning**: missing value handling, outlier detection, normalization.\n",
    "- Performs **feature selection** and dimensionality checks.\n",
    "- Handles **class imbalance** using SMOTE, SMOTEENN, or other resampling techniques.\n"
   ]
  },
  {
   "cell_type": "markdown",
   "id": "f76e7ca5",
   "metadata": {},
   "source": [
    "### 📘 `02_Traditional_ML_Models.ipynb`\n",
    "- Trains classical machine learning models: `RandomForest`, `XGBoost`, and `LightGBM`.\n",
    "- Applies soft-voting ensemble (`VotingClassifier`) for improved generalization.\n",
    "- Evaluates models using classification report, macro-F1, ROC AUC, and confusion matrices.\n"
   ]
  },
  {
   "cell_type": "markdown",
   "id": "61a69623",
   "metadata": {},
   "source": [
    "### 📘 `03_Model_Interpretability_SHAP.ipynb`\n",
    "- Uses `SHAP` (SHapley Additive exPlanations) to visualize feature importance.\n",
    "- Generates **summary plots**, **bar plots**, and **class-wise explanation plots**.\n",
    "- Helps understand which features influence each class prediction the most."
   ]
  },
  {
   "cell_type": "markdown",
   "id": "34c33f88",
   "metadata": {},
   "source": [
    "### 📘 `04_Enhance_Modeling_Strategy.ipynb`\n",
    "- Implements advanced techniques to improve minority class recall and robustness.\n",
    "- Includes **two-stage classification** (binary → multiclass).\n",
    "- Compares different class balancing strategies and custom loss functions.\n",
    "- Evaluates hybrid scoring methods and performs in-depth error analysis."
   ]
  },
  {
   "cell_type": "markdown",
   "id": "791fdee3",
   "metadata": {},
   "source": [
    "# Master Pipeline Controller\n",
    "\n",
    "This notebook serves as the entry point for the complete analysis workflow.\n",
    "\n",
    "\n",
    "## 🚀 How to Execute\n",
    "\n",
    "You may manually run each notebook in order, or automate with tools like `papermill`.\n",
    "\n",
    "```python\n",
    "# Optional automation via papermill\n",
    "import papermill as pm\n",
    "\n",
    "notebooks = [\n",
    "    \"01_EDA_and_Preprocessing.ipynb\",\n",
    "    \"02_Traditional_ML_Models.ipynb\",\n",
    "    \"03_Model_Interpretability_SHAP.ipynb\",\n",
    "    \"04_Enhance_Modeling_Strategy.ipynb\",\n",
    "]\n",
    "\n",
    "for nb in notebooks:\n",
    "    print(f\"📘 Running: {nb}\")\n",
    "    pm.execute_notebook(nb, f\"outputs/{nb}\")\n",
    "```\n",
    "\n"
   ]
  },
  {
   "cell_type": "markdown",
   "id": "d0e28220",
   "metadata": {},
   "source": []
  }
 ],
 "metadata": {
  "kernelspec": {
   "display_name": "cv-auto-label-env",
   "language": "python",
   "name": "python3"
  },
  "language_info": {
   "codemirror_mode": {
    "name": "ipython",
    "version": 3
   },
   "file_extension": ".py",
   "mimetype": "text/x-python",
   "name": "python",
   "nbconvert_exporter": "python",
   "pygments_lexer": "ipython3",
   "version": "3.10.13"
  }
 },
 "nbformat": 4,
 "nbformat_minor": 5
}
