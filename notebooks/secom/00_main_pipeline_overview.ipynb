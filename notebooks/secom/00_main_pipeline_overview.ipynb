{
 "cells": [
  {
   "cell_type": "markdown",
   "id": "49e9f930",
   "metadata": {},
   "source": [
    "# 📘 SECOM Smart Fault Predictor - Notebook 導覽總覽"
   ]
  },
  {
   "cell_type": "markdown",
   "id": "dac96d11",
   "metadata": {},
   "source": [
    "\n",
    "歡迎使用 SECOM 製造資料異常預測專案，本導覽筆記將依照分析階段提供各階段 Notebook 的說明與連結，方便你快速切換流程並了解專案脈絡。\n"
   ]
  },
  {
   "cell_type": "markdown",
   "id": "6fea4e31",
   "metadata": {},
   "source": [
    "## 🔍 01. 資料探索與理解"
   ]
  },
  {
   "cell_type": "markdown",
   "id": "d01b5708",
   "metadata": {},
   "source": [
    "\n",
    "[`01_data_exploration.ipynb`](01_data_exploration.ipynb)\n",
    "\n",
    "- 讀取 SECOM 原始資料與標籤\n",
    "- 觀察欄位分佈與缺失值情形\n",
    "- 執行特徵剪裁、標準化與資料整合\n"
   ]
  },
  {
   "cell_type": "markdown",
   "id": "9d5ce82d",
   "metadata": {},
   "source": [
    "## 🧪 02. 資料不平衡處理與傳統機器學習模型訓練"
   ]
  },
  {
   "cell_type": "markdown",
   "id": "f40c1e27",
   "metadata": {},
   "source": [
    "\n",
    "[`02_Traditional_ML_Models.ipynb`](02_Traditional_ML_Models.ipynb)\n",
    "\n",
    "- 使用 SMOTEENN 合成資料 + 降低過擬合\n",
    "- 建立多種模型（LogisticRegression、LightGBM、CatBoost）\n",
    "- 對不平衡類別設定 class_weight\n",
    "- 選出 Recall 最低的模型\n"
   ]
  },
  {
   "cell_type": "markdown",
   "id": "123d46c5",
   "metadata": {},
   "source": [
    "## 🌲 03. LightGBM 變體模型訓練"
   ]
  },
  {
   "cell_type": "markdown",
   "id": "01e795df",
   "metadata": {},
   "source": [
    "\n",
    "[`03_Enhance_lightgbm_pipeline.ipynb`](03_Enhance_lightgbm_pipeline.ipynb)\n",
    "\n",
    "- 建立分類模型預測是否異常\n",
    "- 強化 LightGBM 建模與預測\n",
    "    - LightGBM + `class_weight=balanced`\n",
    "    - LightGBM + CalibratedClassifierCV（機率校準）\n",
    "    - LightGBM + PCA 降維後加強特徵表現力\n",
    "- 找出最佳 Threshold（最大化 F1）\n",
    "- PR AUC / ROC AUC / F1 曲線視覺化\n",
    "- 自動選出最佳版本（PR AUC 達標再比 Recall）\n"
   ]
  },
  {
   "cell_type": "markdown",
   "id": "057e17b7",
   "metadata": {},
   "source": [
    "## ⚠️ 04. 異常分數建構 + SHAP 解釋"
   ]
  },
  {
   "cell_type": "markdown",
   "id": "f302405a",
   "metadata": {},
   "source": [
    "\n",
    "[`04_anomaly_scores.ipynb`](04_anomaly_scores.ipynb)\n",
    "\n",
    "- 使用 AutoEncoder / IsolationForest 建立異常分數\n",
    "- 建立 hybrid_score + PU 標記策略\n",
    "- SHAP 分析找出主導異常的重要特徵\n"
   ]
  },
  {
   "cell_type": "markdown",
   "id": "09b1e1a2",
   "metadata": {},
   "source": [
    "## 🚨 05. 即時預測模擬 + 可視化"
   ]
  },
  {
   "cell_type": "markdown",
   "id": "66b52505",
   "metadata": {},
   "source": [
    "\n",
    "[`05_realtime_simulation.ipynb`](05_realtime_simulation.ipynb)\n",
    "\n",
    "- 模擬即時樣本流入並分類\n",
    "- 顯示異常趨勢與異常率變化\n",
    "- 提供雙層異常標記 + SHAP 解釋資訊\n"
   ]
  },
  {
   "cell_type": "markdown",
   "id": "c89b8ebf",
   "metadata": {},
   "source": [
    "---\n",
    "🛠 若你準備部署此專案，請先確認已安裝 `requirements.txt` 套件依賴。"
   ]
  },
  {
   "cell_type": "markdown",
   "id": "2699ce15",
   "metadata": {},
   "source": [
    "\n",
    "```mermaid\n",
    "graph TD\n",
    "    A[載入 SECOM 資料] --> B[補值與標準化]\n",
    "    B --> C[LightGBM 模型訓練]\n",
    "    C --> D[模型評估（F1, AUC, Confusion Matrix）]\n",
    "    B --> E[Isolation Forest 計算異常分數]\n",
    "    E --> F[SHAP 解釋與異常標記]\n",
    "    D --> G[結果視覺化與儀表板展示]\n",
    "    F --> G\n",
    "```\n",
    "\n"
   ]
  },
  {
   "cell_type": "markdown",
   "id": "f87c2cb9",
   "metadata": {},
   "source": []
  }
 ],
 "metadata": {
  "language_info": {
   "name": "python"
  }
 },
 "nbformat": 4,
 "nbformat_minor": 5
}
